{
 "cells": [
  {
   "cell_type": "code",
   "execution_count": 2,
   "id": "010bbe04-b41b-4858-8d57-6becdef08ff7",
   "metadata": {},
   "outputs": [],
   "source": [
    "#Q1.\n",
    "#Object − Objects have states and behaviors\n",
    "#class - Class − A class can be defined as a template/blueprint that describes the behavior/state that the object of its type support."
   ]
  },
  {
   "cell_type": "code",
   "execution_count": 3,
   "id": "0e3ed787-a92a-46a6-8c93-4ff90977f1a3",
   "metadata": {},
   "outputs": [],
   "source": [
    "#class Example\n",
    "#For example, consider the Class of Accounts. There may be many accounts with different names and types,  but all of them will share some common properties, as all of them will have some common attributes like balance, account holder name, etc. So here, the Account is the class.\n",
    "#object Example\n",
    "#For Example, considering the objects for the class Account are SBI Account, ICICI account, etc."
   ]
  },
  {
   "cell_type": "code",
   "execution_count": 4,
   "id": "7fe7d857-053f-4593-9cfa-7d4d2b591efd",
   "metadata": {},
   "outputs": [],
   "source": [
    "#Q2.\n",
    "#four pillars are Inheritance, Polymorphism, Encapsulation and Abstraction."
   ]
  },
  {
   "cell_type": "code",
   "execution_count": 5,
   "id": "c1cd713f-c024-40f6-bd51-960d01f9190c",
   "metadata": {},
   "outputs": [
    {
     "name": "stdout",
     "output_type": "stream",
     "text": [
      "John\n",
      "36\n"
     ]
    }
   ],
   "source": [
    "#Q3.\n",
    "#the __init__() function to assign values to object properties, \n",
    "#or other operations that are necessary to do when the object is being created:\n",
    "#Example -\n",
    "class Person:\n",
    "  def __init__(self, name, age):\n",
    "    self.name = name\n",
    "    self.age = age\n",
    "\n",
    "p1 = Person(\"John\", 36)\n",
    "\n",
    "print(p1.name)\n",
    "print(p1.age)"
   ]
  },
  {
   "cell_type": "code",
   "execution_count": 6,
   "id": "29f5adf3-31c8-431c-bb4f-21e39aa0ee18",
   "metadata": {},
   "outputs": [],
   "source": [
    "#Q4. \n",
    "#The self is used to represent the instance of the class. \n",
    "#With this keyword, you can access the attributes and methods of the class in python."
   ]
  },
  {
   "cell_type": "code",
   "execution_count": 1,
   "id": "ee657481-d2a8-4822-86d2-b9253b23d155",
   "metadata": {},
   "outputs": [],
   "source": [
    "#Q5. Inheritance allows us to define a class that inherits all the methods and properties from another class.\n",
    "#Example\n",
    "class parent():\n",
    "    def a(self):\n",
    "        return \"this is inheritance example\""
   ]
  },
  {
   "cell_type": "code",
   "execution_count": 2,
   "id": "4d33ab6f-c74a-4fe4-8b24-70739fc13788",
   "metadata": {},
   "outputs": [],
   "source": [
    "class child(parent):\n",
    "    pass"
   ]
  },
  {
   "cell_type": "code",
   "execution_count": 3,
   "id": "e566a060-74bb-4bc0-9ea9-8674d596d029",
   "metadata": {},
   "outputs": [],
   "source": [
    "child_obj = child()"
   ]
  },
  {
   "cell_type": "code",
   "execution_count": 5,
   "id": "b10d1993-d3dd-4bba-a71f-1b364fd9ca8c",
   "metadata": {},
   "outputs": [
    {
     "data": {
      "text/plain": [
       "'this is inheritance example'"
      ]
     },
     "execution_count": 5,
     "metadata": {},
     "output_type": "execute_result"
    }
   ],
   "source": [
    "child_obj.a()"
   ]
  },
  {
   "cell_type": "code",
   "execution_count": null,
   "id": "44bc9d1b-8920-4f99-b8a0-82a4cc7fc980",
   "metadata": {},
   "outputs": [],
   "source": []
  }
 ],
 "metadata": {
  "kernelspec": {
   "display_name": "Python 3 (ipykernel)",
   "language": "python",
   "name": "python3"
  },
  "language_info": {
   "codemirror_mode": {
    "name": "ipython",
    "version": 3
   },
   "file_extension": ".py",
   "mimetype": "text/x-python",
   "name": "python",
   "nbconvert_exporter": "python",
   "pygments_lexer": "ipython3",
   "version": "3.10.8"
  }
 },
 "nbformat": 4,
 "nbformat_minor": 5
}
